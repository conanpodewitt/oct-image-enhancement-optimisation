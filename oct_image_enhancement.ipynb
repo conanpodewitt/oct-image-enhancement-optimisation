{
 "cells": [
  {
   "cell_type": "markdown",
   "metadata": {},
   "source": [
    "# oct-image-enhancement-optimisation\n",
    "### CITS4404 Assignment 2 @ The University of Western Australia\n",
    "\n",
    "Alian Haidar (22900426)\\\n",
    "Conan Dewitt (22877792)\\\n",
    "Dennis Gunadi (22374535)\\\n",
    "Lili Liu (23212326)"
   ]
  },
  {
   "cell_type": "markdown",
   "metadata": {},
   "source": [
    "This project attempt presents the optimisation of a Camo Worm based image enhancement algorithm, specifically in the context of optical coherence tomography."
   ]
  },
  {
   "cell_type": "markdown",
   "metadata": {},
   "source": [
    "Import the necessary modules:"
   ]
  },
  {
   "cell_type": "code",
   "execution_count": null,
   "metadata": {},
   "outputs": [],
   "source": [
    "import numpy as np\n",
    "import matplotlib as mpl\n",
    "import matplotlib.pyplot as plt\n",
    "import matplotlib.path as mpath\n",
    "import imageio.v3 as iio"
   ]
  },
  {
   "cell_type": "markdown",
   "metadata": {},
   "source": [
    "Include the custom [worm.py](worm.py) module for visualisation:"
   ]
  },
  {
   "cell_type": "code",
   "execution_count": null,
   "metadata": {},
   "outputs": [],
   "source": [
    "import worm as wrm"
   ]
  },
  {
   "cell_type": "markdown",
   "metadata": {},
   "source": [
    "Define global variables:"
   ]
  },
  {
   "cell_type": "code",
   "execution_count": null,
   "metadata": {},
   "outputs": [],
   "source": [
    "rng = np.random.default_rng()\n",
    "Path = mpath.Path\n",
    "\n",
    "mpl.rcParams['figure.dpi']= 72  # size of image\n",
    "\n",
    "POPULATION_SIZE = 40\n",
    "IMAGE_DIR = 'images'\n",
    "IMAGE_NAME = 'original'\n",
    "MASK = [320, 560, 160, 880]  # y_min, y_max, x_min, x_max"
   ]
  },
  {
   "cell_type": "markdown",
   "metadata": {},
   "source": [
    "Read, resize and display the input image:"
   ]
  },
  {
   "cell_type": "code",
   "execution_count": null,
   "metadata": {},
   "outputs": [],
   "source": [
    "def crop(image, mask):\n",
    "    h, w = np.shape(image)\n",
    "    return image[max(mask[0],0):min(mask[1],h), max(mask[2],0):min(mask[3],w)]\n",
    "\n",
    "def prep_image(imdir, imname, mask):\n",
    "    image = np.flipud(crop(iio.imread(imdir+'/'+imname+\".png\"), mask))\n",
    "    print(\"Image name:    \", imname)\n",
    "    print(\"Image size:    \", *np.shape(image))\n",
    "    print(\"Intensity max: \", np.max(image))\n",
    "    print(\"Intensity min: \", np.min(image))\n",
    "    print(\"Intensity mean:\", round(np.mean(image), 1))\n",
    "    print(\"Intensity std: \", round(np.std(image), 1))\n",
    "    plt.imshow(image, vmin=0, vmax=255, cmap='gray', origin='lower')  # use vmin and vmax to stop imshow from scaling\n",
    "    plt.show()\n",
    "    return image\n",
    "\n",
    "image = prep_image(IMAGE_DIR, IMAGE_NAME, MASK)"
   ]
  },
  {
   "cell_type": "markdown",
   "metadata": {},
   "source": [
    "Present the Cost Function:"
   ]
  },
  {
   "cell_type": "code",
   "execution_count": null,
   "metadata": {},
   "outputs": [],
   "source": [
    "def calculate_cost(worm, image, other_worms):\n",
    "    # Extract target colour\n",
    "    target_colour = image[int(worm.y), int(worm.x)] / 255.0\n",
    "    \n",
    "    # Generate Bézier curve points\n",
    "    x_points, y_points = worm.bezier_points()\n",
    "    \n",
    "    # Ensure points are within image boundaries\n",
    "    x_points = np.clip(x_points, 0, image.shape[1]-1)\n",
    "    y_points = np.clip(y_points, 0, image.shape[0]-1)\n",
    "    \n",
    "    # Calculate environment cost\n",
    "    worm_pixels = image[y_points, x_points]\n",
    "    environment_cost = np.mean(np.abs(worm_pixels - target_colour))\n",
    "    \n",
    "    # Calculate group knowledge cost\n",
    "    position_cost = 0\n",
    "    for other_worm in other_worms:\n",
    "        if other_worm != worm:\n",
    "            distance = np.sqrt((worm.x - other_worm.x)**2 + (worm.y - other_worm.y)**2)\n",
    "            position_cost += distance\n",
    "\n",
    "    # Calculate internal knowledge costs\n",
    "    size_cost = worm.r\n",
    "    \n",
    "    p0 = (worm.x, worm.y)\n",
    "    p1 = (worm.x + worm.dr * np.cos(worm.theta + worm.dgamma), \n",
    "          worm.y + worm.dr * np.sin(worm.theta + worm.dgamma))\n",
    "    p2 = (worm.x + worm.r * np.cos(worm.theta), \n",
    "          worm.y + worm.r * np.sin(worm.theta))\n",
    "    vector1 = np.array(p1) - np.array(p0)\n",
    "    vector2 = np.array(p2) - np.array(p1)\n",
    "    angle = np.arccos(np.dot(vector1, vector2) / (np.linalg.norm(vector1) * np.linalg.norm(vector2)))\n",
    "    curvature_cost = angle\n",
    "    \n",
    "    color_cost = np.mean(np.abs(worm.colour - target_colour))\n",
    "\n",
    "    # Combine costs\n",
    "    total_cost = size_cost + curvature_cost + color_cost + position_cost + environment_cost\n",
    "    return total_cost"
   ]
  },
  {
   "cell_type": "markdown",
   "metadata": {},
   "source": [
    "Define the Worm Population, the *Genetic Function*:"
   ]
  },
  {
   "cell_type": "code",
   "execution_count": null,
   "metadata": {},
   "outputs": [],
   "source": [
    "class Worm_Population:\n",
    "    # Initialize the Worm_Population object with a given size and image shape\n",
    "    def __init__(self, size, image_shape):\n",
    "        self.worms = [self.create_random_worm(image_shape) for _ in range(size)]\n",
    "        self.image_shape = image_shape\n",
    "\n",
    "    # Create a random worm with random attributes based on the given image shape\n",
    "    def create_random_worm(self, image_shape):\n",
    "        # Randomly generate attributes for the worm\n",
    "        x = np.random.randint(0, image_shape[1])\n",
    "        y = np.random.randint(0, image_shape[0])\n",
    "        r = np.random.randint(10, 100)\n",
    "        theta = np.random.rand() * 2 * np.pi\n",
    "        deviation_r = np.random.randint(-50, 50)\n",
    "        deviation_gamma = np.random.rand() * 2 * np.pi\n",
    "        width = np.random.randint(1, 10)\n",
    "        colour = np.random.rand()\n",
    "        return wrm.Camo_Worm(x, y, r, theta, deviation_r, deviation_gamma, width, colour)\n",
    "\n",
    "    # Evaluate the fitness of each worm in the population based on a given image and other worms\n",
    "    def evaluate_fitness(self, image, other_worms):\n",
    "        for worm in self.worms:\n",
    "            worm.fitness = 1 / (1 + calculate_cost(worm, image, other_worms))\n",
    "\n",
    "    # Select the fittest worms to survive and reproduce\n",
    "    def select(self):\n",
    "        self.worms.sort(key=lambda x: x.fitness, reverse=True)\n",
    "        self.worms = self.worms[:len(self.worms)//2] * 2  # keep top 50% and duplicate to maintain population size\n",
    "\n",
    "    # Perform crossover to generate a new generation of worms\n",
    "    def crossover(self):\n",
    "        new_generation = []\n",
    "        while len(new_generation) < len(self.worms) * 2:\n",
    "            if len(self.worms) >= 2:\n",
    "                parent1, parent2 = np.random.choice(self.worms, 2, replace=False)  # Randomly select parents\n",
    "                child1, child2 = self.mate(parent1, parent2)  # Generate children through crossover\n",
    "                new_generation.extend([child1, child2])  # Add children to new generation\n",
    "            else:\n",
    "                break\n",
    "        self.worms = new_generation[:len(self.worms)]  # Update population with new generation\n",
    "\n",
    "    # Generate children by averaging attributes of two parent worms\n",
    "    def mate(self, parent1, parent2):\n",
    "        child1 = wrm.Camo_Worm(  # Create child 1\n",
    "            (parent1.x + parent2.x) // 2,\n",
    "            (parent1.y + parent2.y) // 2,\n",
    "            (parent1.r + parent2.r) // 2,\n",
    "            (parent1.theta + parent2.theta) / 2,\n",
    "            (parent1.dr + parent2.dr) // 2,\n",
    "            (parent1.dgamma + parent2.dgamma) / 2,\n",
    "            (parent1.width + parent2.width) // 2,\n",
    "            (parent1.colour + parent2.colour) / 2\n",
    "        )\n",
    "        child2 = wrm.Camo_Worm(  # Create child 2\n",
    "            (parent1.x + parent2.x) // 2,\n",
    "            (parent1.y + parent2.y) // 2,\n",
    "            (parent1.r + parent2.r) // 2,\n",
    "            (parent1.theta + parent2.theta) / 2,\n",
    "            (parent1.dr + parent2.dr) // 2,\n",
    "            (parent1.dgamma + parent2.dgamma) / 2,\n",
    "            (parent1.width + parent2.width) // 2,\n",
    "            (parent1.colour + parent2.colour) / 2\n",
    "        )\n",
    "        return child1, child2  # Return the generated children"
   ]
  },
  {
   "cell_type": "markdown",
   "metadata": {},
   "source": [
    "Create the Camo Worm population about the input image, and visualise each generation:"
   ]
  },
  {
   "cell_type": "code",
   "execution_count": null,
   "metadata": {},
   "outputs": [],
   "source": [
    "# Run the genetic algorithm\n",
    "def run_algorithm(image, generations=40):\n",
    "    population = Worm_Population(POPULATION_SIZE, image.shape)\n",
    "    for i in range(generations):\n",
    "        population.evaluate_fitness(image, population.worms)\n",
    "        population.select()\n",
    "        population.crossover()\n",
    "        \n",
    "        # Update attributes of worms in the population\n",
    "        for worm in population.worms:\n",
    "            worm.grow()\n",
    "            worm.move(image.shape)\n",
    "            worm.adapt_color(image)\n",
    "            worm.adapt_curvature()\n",
    "        \n",
    "        # Display generation details\n",
    "        print(f\"Generation {i+1}: {len(population.worms)} worms\")\n",
    "        \n",
    "        # Calculate and display the total cost of the population\n",
    "        total_cost = 0\n",
    "        for worm in population.worms:\n",
    "            cost = calculate_cost(worm, image, population.worms)\n",
    "            total_cost += cost\n",
    "        average_cost = total_cost / len(population.worms)\n",
    "        print(f\"Average Cost: {average_cost}\")\n",
    "\n",
    "        # Display generation\n",
    "        visualize_population(population.worms, image)\n",
    "    \n",
    "    return population\n",
    "\n",
    "# Visualize the population of worms\n",
    "def visualize_population(worms, image):\n",
    "    drawing = wrm.Drawing(image)\n",
    "    drawing.add_worms(worms)\n",
    "    drawing.show()\n",
    "\n",
    "# Example usage\n",
    "optimized_population = run_algorithm(image)\n",
    "drawing = wrm.Drawing(image)\n",
    "drawing.add_worms(optimized_population.worms)\n",
    "drawing.show()"
   ]
  }
 ],
 "metadata": {
  "kernelspec": {
   "display_name": ".venv",
   "language": "python",
   "name": "python3"
  },
  "language_info": {
   "codemirror_mode": {
    "name": "ipython",
    "version": 3
   },
   "file_extension": ".py",
   "mimetype": "text/x-python",
   "name": "python",
   "nbconvert_exporter": "python",
   "pygments_lexer": "ipython3",
   "version": "3.11.0"
  }
 },
 "nbformat": 4,
 "nbformat_minor": 2
}
